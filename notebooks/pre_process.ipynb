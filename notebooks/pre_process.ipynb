{
 "cells": [
  {
   "cell_type": "markdown",
   "metadata": {},
   "source": [
    "## Dataset pre_process \n",
    "\n",
    "1. Load the dataset \n",
    "2. Remove the columns that are not needed\n",
    "3. Dataset preprocessing \n",
    "   1. convert to lower case \n",
    "   2. remove numbers \n",
    "   3. remove breket \n",
    "   4. stopwords removal\n",
    "   5. stemming"
   ]
  },
  {
   "cell_type": "code",
   "execution_count": 5,
   "metadata": {},
   "outputs": [
    {
     "name": "stderr",
     "output_type": "stream",
     "text": [
      "[nltk_data] Downloading package stopwords to\n",
      "[nltk_data]     C:\\Users\\Amzad\\AppData\\Roaming\\nltk_data...\n",
      "[nltk_data]   Package stopwords is already up-to-date!\n"
     ]
    }
   ],
   "source": [
    "import re\n",
    "import os\n",
    "from src.utils import * \n",
    "import pandas as pd \n",
    "import numpy as np \n",
    "import matplotlib.pyplot as plt\n",
    "import nltk\n",
    "from nltk.tokenize import word_tokenize\n",
    "from nltk.corpus import stopwords\n",
    "import string\n",
    "from nltk.stem import PorterStemmer \n",
    "nltk.download('stopwords')\n",
    "stopwords = stopwords.words('english')\n",
    "from sklearn.preprocessing import OneHotEncoder"
   ]
  },
  {
   "cell_type": "code",
   "execution_count": 2,
   "metadata": {},
   "outputs": [],
   "source": [
    "data_dir = os.path.join(os.getcwd(), 'data/Resume.csv')\n",
    "df = pd.read_csv(data_dir)"
   ]
  },
  {
   "cell_type": "code",
   "execution_count": 10,
   "metadata": {},
   "outputs": [
    {
     "data": {
      "text/html": [
       "<div>\n",
       "<style scoped>\n",
       "    .dataframe tbody tr th:only-of-type {\n",
       "        vertical-align: middle;\n",
       "    }\n",
       "\n",
       "    .dataframe tbody tr th {\n",
       "        vertical-align: top;\n",
       "    }\n",
       "\n",
       "    .dataframe thead th {\n",
       "        text-align: right;\n",
       "    }\n",
       "</style>\n",
       "<table border=\"1\" class=\"dataframe\">\n",
       "  <thead>\n",
       "    <tr style=\"text-align: right;\">\n",
       "      <th></th>\n",
       "      <th>ID</th>\n",
       "      <th>Resume_str</th>\n",
       "      <th>Category</th>\n",
       "    </tr>\n",
       "  </thead>\n",
       "  <tbody>\n",
       "    <tr>\n",
       "      <th>0</th>\n",
       "      <td>16852973</td>\n",
       "      <td>HR ADMINISTRATOR/MARKETING ASSOCIATE\\...</td>\n",
       "      <td>0.0</td>\n",
       "    </tr>\n",
       "    <tr>\n",
       "      <th>1</th>\n",
       "      <td>22323967</td>\n",
       "      <td>HR SPECIALIST, US HR OPERATIONS      ...</td>\n",
       "      <td>0.0</td>\n",
       "    </tr>\n",
       "    <tr>\n",
       "      <th>2</th>\n",
       "      <td>33176873</td>\n",
       "      <td>HR DIRECTOR       Summary      Over 2...</td>\n",
       "      <td>0.0</td>\n",
       "    </tr>\n",
       "    <tr>\n",
       "      <th>3</th>\n",
       "      <td>27018550</td>\n",
       "      <td>HR SPECIALIST       Summary    Dedica...</td>\n",
       "      <td>0.0</td>\n",
       "    </tr>\n",
       "    <tr>\n",
       "      <th>4</th>\n",
       "      <td>17812897</td>\n",
       "      <td>HR MANAGER         Skill Highlights  ...</td>\n",
       "      <td>0.0</td>\n",
       "    </tr>\n",
       "  </tbody>\n",
       "</table>\n",
       "</div>"
      ],
      "text/plain": [
       "         ID                                         Resume_str  Category\n",
       "0  16852973           HR ADMINISTRATOR/MARKETING ASSOCIATE\\...       0.0\n",
       "1  22323967           HR SPECIALIST, US HR OPERATIONS      ...       0.0\n",
       "2  33176873           HR DIRECTOR       Summary      Over 2...       0.0\n",
       "3  27018550           HR SPECIALIST       Summary    Dedica...       0.0\n",
       "4  17812897           HR MANAGER         Skill Highlights  ...       0.0"
      ]
     },
     "execution_count": 10,
     "metadata": {},
     "output_type": "execute_result"
    }
   ],
   "source": [
    "tagets=df[[\"Category\"]]\n",
    "one_enc=OneHotEncoder() #one hot encoder\n",
    "tagets=one_enc.fit_transform(tagets).toarray()\n",
    "df['Category']= tagets\n",
    "     \n",
    "df.head()"
   ]
  },
  {
   "cell_type": "code",
   "execution_count": null,
   "metadata": {},
   "outputs": [],
   "source": []
  },
  {
   "cell_type": "code",
   "execution_count": 3,
   "metadata": {},
   "outputs": [
    {
     "data": {
      "text/html": [
       "<div>\n",
       "<style scoped>\n",
       "    .dataframe tbody tr th:only-of-type {\n",
       "        vertical-align: middle;\n",
       "    }\n",
       "\n",
       "    .dataframe tbody tr th {\n",
       "        vertical-align: top;\n",
       "    }\n",
       "\n",
       "    .dataframe thead th {\n",
       "        text-align: right;\n",
       "    }\n",
       "</style>\n",
       "<table border=\"1\" class=\"dataframe\">\n",
       "  <thead>\n",
       "    <tr style=\"text-align: right;\">\n",
       "      <th></th>\n",
       "      <th>ID</th>\n",
       "      <th>Resume_str</th>\n",
       "      <th>Resume_html</th>\n",
       "      <th>Category</th>\n",
       "    </tr>\n",
       "  </thead>\n",
       "  <tbody>\n",
       "    <tr>\n",
       "      <th>0</th>\n",
       "      <td>16852973</td>\n",
       "      <td>HR ADMINISTRATOR/MARKETING ASSOCIATE\\...</td>\n",
       "      <td>&lt;div class=\"fontsize fontface vmargins hmargin...</td>\n",
       "      <td>HR</td>\n",
       "    </tr>\n",
       "    <tr>\n",
       "      <th>1</th>\n",
       "      <td>22323967</td>\n",
       "      <td>HR SPECIALIST, US HR OPERATIONS      ...</td>\n",
       "      <td>&lt;div class=\"fontsize fontface vmargins hmargin...</td>\n",
       "      <td>HR</td>\n",
       "    </tr>\n",
       "    <tr>\n",
       "      <th>2</th>\n",
       "      <td>33176873</td>\n",
       "      <td>HR DIRECTOR       Summary      Over 2...</td>\n",
       "      <td>&lt;div class=\"fontsize fontface vmargins hmargin...</td>\n",
       "      <td>HR</td>\n",
       "    </tr>\n",
       "    <tr>\n",
       "      <th>3</th>\n",
       "      <td>27018550</td>\n",
       "      <td>HR SPECIALIST       Summary    Dedica...</td>\n",
       "      <td>&lt;div class=\"fontsize fontface vmargins hmargin...</td>\n",
       "      <td>HR</td>\n",
       "    </tr>\n",
       "    <tr>\n",
       "      <th>4</th>\n",
       "      <td>17812897</td>\n",
       "      <td>HR MANAGER         Skill Highlights  ...</td>\n",
       "      <td>&lt;div class=\"fontsize fontface vmargins hmargin...</td>\n",
       "      <td>HR</td>\n",
       "    </tr>\n",
       "  </tbody>\n",
       "</table>\n",
       "</div>"
      ],
      "text/plain": [
       "         ID                                         Resume_str  \\\n",
       "0  16852973           HR ADMINISTRATOR/MARKETING ASSOCIATE\\...   \n",
       "1  22323967           HR SPECIALIST, US HR OPERATIONS      ...   \n",
       "2  33176873           HR DIRECTOR       Summary      Over 2...   \n",
       "3  27018550           HR SPECIALIST       Summary    Dedica...   \n",
       "4  17812897           HR MANAGER         Skill Highlights  ...   \n",
       "\n",
       "                                         Resume_html Category  \n",
       "0  <div class=\"fontsize fontface vmargins hmargin...       HR  \n",
       "1  <div class=\"fontsize fontface vmargins hmargin...       HR  \n",
       "2  <div class=\"fontsize fontface vmargins hmargin...       HR  \n",
       "3  <div class=\"fontsize fontface vmargins hmargin...       HR  \n",
       "4  <div class=\"fontsize fontface vmargins hmargin...       HR  "
      ]
     },
     "execution_count": 3,
     "metadata": {},
     "output_type": "execute_result"
    }
   ],
   "source": [
    "df.head()"
   ]
  },
  {
   "cell_type": "code",
   "execution_count": 4,
   "metadata": {},
   "outputs": [],
   "source": [
    "df= df[[\"ID\",\"Resume_str\",\"Category\"]]"
   ]
  },
  {
   "cell_type": "code",
   "execution_count": 5,
   "metadata": {},
   "outputs": [],
   "source": [
    "resume=df[\"Resume_str\"]"
   ]
  },
  {
   "cell_type": "code",
   "execution_count": 6,
   "metadata": {},
   "outputs": [],
   "source": [
    "x=resume.apply(remove_extra_spaces)"
   ]
  },
  {
   "cell_type": "code",
   "execution_count": 7,
   "metadata": {},
   "outputs": [],
   "source": [
    "def remove_breket(text):\n",
    "    text = text.replace(']', '').replace('[', '').replace(\"'\", \"\").replace('(', '').replace(')', '').replace('/', '')\n",
    "    return text"
   ]
  },
  {
   "cell_type": "code",
   "execution_count": 8,
   "metadata": {},
   "outputs": [],
   "source": [
    "x=x.apply(remove_breket)"
   ]
  },
  {
   "cell_type": "code",
   "execution_count": 9,
   "metadata": {},
   "outputs": [],
   "source": [
    "\n",
    "def remove_breket(text):\n",
    "    text = text.replace(']', '').replace('[', '').replace(\"'\", \"\").replace('(', '').replace(')', '').replace('/', '').replace(\"|\",'').replace('-','')\n",
    "    return text\n",
    "    "
   ]
  },
  {
   "cell_type": "code",
   "execution_count": 10,
   "metadata": {},
   "outputs": [],
   "source": [
    "def remove_numbers(text):\n",
    "    text = re.sub(r'\\d+', '', text)\n",
    "    return text\n"
   ]
  },
  {
   "cell_type": "code",
   "execution_count": 11,
   "metadata": {},
   "outputs": [],
   "source": [
    "x=x.apply(remove_numbers)"
   ]
  },
  {
   "cell_type": "code",
   "execution_count": 12,
   "metadata": {},
   "outputs": [],
   "source": [
    "x=x.apply(remove_breket)"
   ]
  },
  {
   "cell_type": "code",
   "execution_count": 13,
   "metadata": {},
   "outputs": [],
   "source": [
    "x=x.apply(remove_extra_spaces)"
   ]
  },
  {
   "cell_type": "code",
   "execution_count": 14,
   "metadata": {},
   "outputs": [],
   "source": [
    "def lower_case(text):\n",
    "    return text.lower()"
   ]
  },
  {
   "cell_type": "code",
   "execution_count": 15,
   "metadata": {},
   "outputs": [],
   "source": [
    "x=x.apply(lower_case)"
   ]
  },
  {
   "cell_type": "code",
   "execution_count": 16,
   "metadata": {},
   "outputs": [
    {
     "data": {
      "text/plain": [
       "'hr business partner summary proactive human resources business partner guiding performance management, talent planning and benefits. decisive with proven success providing employee relations support and oversight for efficient operations. extensive knowledge and experience developing code of business conduct and ethics policies. skills leadership development collaborative organization and efficiency exemplary verbal and written communication time management conflict mediation selfstarter hr experience in technology field professional experience hr business partner company name city , state served as the primary point of contact for the hr department for each assigned network by providing direct assistance or connecting them with the appropriate hr specialist. advised supervisors and management in performance management strategies and interventions, including reviews of disciplinary procedures and actions and recommendations for separations of employment. assisted with formal and informal inquiriesand investigations in conjunction with external legal counsel as necessary. identified areas of opportunity for change initiatives that will positively influence assigned network performance and success. worked with assigned networks leadership to develop strategies and interventions for problems areas, such as turnover and compliance with training, evaluations, and other employment related requirements. assisted and advised network leadership on departmental structure and job creation and analysis, including editing of job descriptions and developing appropriate wages. served as hr representative in crossfunctional agency projects and initiatives by connecting hr solutions with assigned networks needs to ensure alignment with agency values and strategic objectives. ensured adequate staffing levels for assigned networks and develops strategies, in conjunction with the recruitment and hiring team, to recruit qualified staff. interpreted and explained human resources policies, procedures, laws, standards, andor employment regulations to employees and management in assigned networks. served as employee advocate by meeting with employees and addressing concerns. collaborated with other hr business partner frequently to ensure alignment of practices across agency and to share resources and ideas. reviewed and analyzed metrics and data; provides recommendations based on findings to executive management as needed. reported quarterly to the human resources manager on key performance indicators, strategies and initiatives, employee relations actions taken, and other items as assigned. maintained current knowledge of human resources federal and state laws including equal employment opportunity eeo, ada, affordable care act aca, wage and hour, family medical leave act fmla, userra, etc. sr. hr consultant and ta specialist company name city , state developed staffing strategies to fill vacancies and define position allocations. reviewed referral candidates and contacted qualified individuals to request applications. planned and executed recruitment events to bring in area candidates. facilitated organizational development initiatives to conduct performance management and talent assessment. implemented employee engagement and development activities, presentations and training to maximize productivity and unite workforce. listened to clients needs and assisted with identifying and securing appropriate services. human resources consultant iv company name city , state established measures to promote diversity and drive equal access to opportunity and advancement. facilitated strategies planning through effective partnerships with leaders. aided senior leadership during executive decisionmaking process, generating daily human resources reports on metrics and policies to recommend corrective actions and improvements. advised leadership on hrrelated issues, including vacation and sick time, benefits, job services and employment discrepancies. developed hiring and recruitment policies to drive transparent and fair hiring process for selecting candidates on basis of merit and relevance with job. performed sensitive and confidential investigations into misconduct issues in workplace, detailing all incidents in reports. liaised between employees and senior leadership to address inquiries, complete contract processing and foster problem resolution. principal consultant company name city , state built a successful consulting business serving private and public sector businesses. marketed business in anchorage and juneau, alaska and phoenix, arizona. established excellent rapport and professional relationships with business leaders. created marketing materials, drafted proposals and bid on contracts. of the bids submitted, % were awarded. initially, offered organizational management and talent acquisition services. additional services provided: training for management and staff from completing a time card and payroll processes to change management. facilitated discussions informal mediation services. set up performance and absence management expectations, policies, processes and tracking. counseled staff, performed workplace investigations, drafted findings and supported management through the corrective action process. education and training alaska pacific university city , state bachelor of arts : organizational management, human resources additional information organized, strong attention to detail, dedicated and committed to excellence computer literacy proficient in microsoft suite word, excel, powerpoint, outlook various oracle based hris, budget and accounting software and databases'"
      ]
     },
     "execution_count": 16,
     "metadata": {},
     "output_type": "execute_result"
    }
   ],
   "source": [
    "x[77]"
   ]
  },
  {
   "cell_type": "code",
   "execution_count": 17,
   "metadata": {},
   "outputs": [
    {
     "name": "stderr",
     "output_type": "stream",
     "text": [
      "[nltk_data] Downloading package stopwords to\n",
      "[nltk_data]     C:\\Users\\Amzad\\AppData\\Roaming\\nltk_data...\n",
      "[nltk_data]   Package stopwords is already up-to-date!\n"
     ]
    }
   ],
   "source": [
    "import nltk\n",
    "\n",
    "from nltk.corpus import stopwords\n",
    "import string\n",
    "from nltk.stem import PorterStemmer \n",
    "nltk.download('stopwords')\n",
    "stopwords = stopwords.words('english')"
   ]
  },
  {
   "cell_type": "code",
   "execution_count": 18,
   "metadata": {},
   "outputs": [],
   "source": [
    "def remove_stopwords(text):\n",
    "    text = [word for word in word_tokenize(text) if word not in stopwords]\n",
    "    return \" \".join(text)"
   ]
  },
  {
   "cell_type": "code",
   "execution_count": 19,
   "metadata": {},
   "outputs": [
    {
     "name": "stderr",
     "output_type": "stream",
     "text": [
      "[nltk_data] Downloading package punkt to\n",
      "[nltk_data]     C:\\Users\\Amzad\\AppData\\Roaming\\nltk_data...\n",
      "[nltk_data]   Package punkt is already up-to-date!\n"
     ]
    }
   ],
   "source": [
    "nltk.download('punkt')\n",
    "\n",
    "\n",
    "def remove_punct(text):\n",
    " return [word for word in text if word not in string.punctuation]\n",
    "\n"
   ]
  },
  {
   "cell_type": "code",
   "execution_count": 20,
   "metadata": {},
   "outputs": [],
   "source": [
    "x=x.apply(remove_stopwords)"
   ]
  },
  {
   "cell_type": "code",
   "execution_count": 21,
   "metadata": {},
   "outputs": [],
   "source": [
    "\n",
    "\n",
    "def snowball_stemmer(text):\n",
    "    return ' '.join([sb.stem(word) for word in word_tokenize(text)])\n",
    "\n"
   ]
  },
  {
   "cell_type": "code",
   "execution_count": 22,
   "metadata": {},
   "outputs": [],
   "source": [
    "x=x.apply(snowball_stemmer)"
   ]
  },
  {
   "cell_type": "code",
   "execution_count": 23,
   "metadata": {},
   "outputs": [
    {
     "data": {
      "text/html": [
       "<div>\n",
       "<style scoped>\n",
       "    .dataframe tbody tr th:only-of-type {\n",
       "        vertical-align: middle;\n",
       "    }\n",
       "\n",
       "    .dataframe tbody tr th {\n",
       "        vertical-align: top;\n",
       "    }\n",
       "\n",
       "    .dataframe thead th {\n",
       "        text-align: right;\n",
       "    }\n",
       "</style>\n",
       "<table border=\"1\" class=\"dataframe\">\n",
       "  <thead>\n",
       "    <tr style=\"text-align: right;\">\n",
       "      <th></th>\n",
       "      <th>ID</th>\n",
       "      <th>Resume_str</th>\n",
       "      <th>Category</th>\n",
       "    </tr>\n",
       "  </thead>\n",
       "  <tbody>\n",
       "    <tr>\n",
       "      <th>0</th>\n",
       "      <td>16852973</td>\n",
       "      <td>HR ADMINISTRATOR/MARKETING ASSOCIATE\\...</td>\n",
       "      <td>HR</td>\n",
       "    </tr>\n",
       "    <tr>\n",
       "      <th>1</th>\n",
       "      <td>22323967</td>\n",
       "      <td>HR SPECIALIST, US HR OPERATIONS      ...</td>\n",
       "      <td>HR</td>\n",
       "    </tr>\n",
       "    <tr>\n",
       "      <th>2</th>\n",
       "      <td>33176873</td>\n",
       "      <td>HR DIRECTOR       Summary      Over 2...</td>\n",
       "      <td>HR</td>\n",
       "    </tr>\n",
       "    <tr>\n",
       "      <th>3</th>\n",
       "      <td>27018550</td>\n",
       "      <td>HR SPECIALIST       Summary    Dedica...</td>\n",
       "      <td>HR</td>\n",
       "    </tr>\n",
       "    <tr>\n",
       "      <th>4</th>\n",
       "      <td>17812897</td>\n",
       "      <td>HR MANAGER         Skill Highlights  ...</td>\n",
       "      <td>HR</td>\n",
       "    </tr>\n",
       "  </tbody>\n",
       "</table>\n",
       "</div>"
      ],
      "text/plain": [
       "         ID                                         Resume_str Category\n",
       "0  16852973           HR ADMINISTRATOR/MARKETING ASSOCIATE\\...       HR\n",
       "1  22323967           HR SPECIALIST, US HR OPERATIONS      ...       HR\n",
       "2  33176873           HR DIRECTOR       Summary      Over 2...       HR\n",
       "3  27018550           HR SPECIALIST       Summary    Dedica...       HR\n",
       "4  17812897           HR MANAGER         Skill Highlights  ...       HR"
      ]
     },
     "execution_count": 23,
     "metadata": {},
     "output_type": "execute_result"
    }
   ],
   "source": [
    "df.head()"
   ]
  },
  {
   "cell_type": "code",
   "execution_count": 25,
   "metadata": {},
   "outputs": [
    {
     "data": {
      "text/html": [
       "<div>\n",
       "<style scoped>\n",
       "    .dataframe tbody tr th:only-of-type {\n",
       "        vertical-align: middle;\n",
       "    }\n",
       "\n",
       "    .dataframe tbody tr th {\n",
       "        vertical-align: top;\n",
       "    }\n",
       "\n",
       "    .dataframe thead th {\n",
       "        text-align: right;\n",
       "    }\n",
       "</style>\n",
       "<table border=\"1\" class=\"dataframe\">\n",
       "  <thead>\n",
       "    <tr style=\"text-align: right;\">\n",
       "      <th></th>\n",
       "      <th>resume</th>\n",
       "      <th>category</th>\n",
       "    </tr>\n",
       "  </thead>\n",
       "  <tbody>\n",
       "    <tr>\n",
       "      <th>0</th>\n",
       "      <td>hr administratormarket associ hr administr sum...</td>\n",
       "      <td>HR</td>\n",
       "    </tr>\n",
       "    <tr>\n",
       "      <th>1</th>\n",
       "      <td>hr specialist , us hr oper summari versatil me...</td>\n",
       "      <td>HR</td>\n",
       "    </tr>\n",
       "    <tr>\n",
       "      <th>2</th>\n",
       "      <td>hr director summari year experi recruit , plus...</td>\n",
       "      <td>HR</td>\n",
       "    </tr>\n",
       "    <tr>\n",
       "      <th>3</th>\n",
       "      <td>hr specialist summari dedic , driven , dynam y...</td>\n",
       "      <td>HR</td>\n",
       "    </tr>\n",
       "    <tr>\n",
       "      <th>4</th>\n",
       "      <td>hr manag skill highlight hr skill hr depart st...</td>\n",
       "      <td>HR</td>\n",
       "    </tr>\n",
       "  </tbody>\n",
       "</table>\n",
       "</div>"
      ],
      "text/plain": [
       "                                              resume category\n",
       "0  hr administratormarket associ hr administr sum...       HR\n",
       "1  hr specialist , us hr oper summari versatil me...       HR\n",
       "2  hr director summari year experi recruit , plus...       HR\n",
       "3  hr specialist summari dedic , driven , dynam y...       HR\n",
       "4  hr manag skill highlight hr skill hr depart st...       HR"
      ]
     },
     "execution_count": 25,
     "metadata": {},
     "output_type": "execute_result"
    }
   ],
   "source": [
    "# dataframe with resusme : x and category : df['category']] \n",
    "df2 = pd.DataFrame({'resume': x, 'category': df['Category']})\n",
    "df2.head()"
   ]
  },
  {
   "cell_type": "code",
   "execution_count": 26,
   "metadata": {},
   "outputs": [],
   "source": [
    "resume=df2['resume']\n",
    "\n",
    "x=resume.apply(remove_numbers) \n"
   ]
  },
  {
   "cell_type": "code",
   "execution_count": 27,
   "metadata": {},
   "outputs": [],
   "source": [
    "#save to csv file \n",
    "df2.to_csv('./data/data(V-0.1).csv', index=False)\n"
   ]
  },
  {
   "cell_type": "code",
   "execution_count": 36,
   "metadata": {},
   "outputs": [],
   "source": [
    "from sklearn.preprocessing import OneHotEncoder\n",
    "\n",
    "target= df[['Category']]\n",
    "# One hot encoding \n",
    "enc = OneHotEncoder(handle_unknown='ignore')\n",
    "enc_df = pd.DataFrame(enc.fit_transform(target.values.reshape(-1,1)).toarray())\n",
    "# enc_df.columns = enc.get_feature_names(['Category'])\n",
    "# df = df.join(enc_df)\n"
   ]
  },
  {
   "cell_type": "code",
   "execution_count": 37,
   "metadata": {},
   "outputs": [
    {
     "ename": "NameError",
     "evalue": "name 'target2' is not defined",
     "output_type": "error",
     "traceback": [
      "\u001b[1;31m---------------------------------------------------------------------------\u001b[0m",
      "\u001b[1;31mNameError\u001b[0m                                 Traceback (most recent call last)",
      "Cell \u001b[1;32mIn[37], line 1\u001b[0m\n\u001b[1;32m----> 1\u001b[0m target2\u001b[39m.\u001b[39mtoarray()\n",
      "\u001b[1;31mNameError\u001b[0m: name 'target2' is not defined"
     ]
    }
   ],
   "source": []
  },
  {
   "cell_type": "code",
   "execution_count": 32,
   "metadata": {},
   "outputs": [
    {
     "ename": "AttributeError",
     "evalue": "'OneHotEncoder' object has no attribute 'get_feature_names'",
     "output_type": "error",
     "traceback": [
      "\u001b[1;31m---------------------------------------------------------------------------\u001b[0m",
      "\u001b[1;31mAttributeError\u001b[0m                            Traceback (most recent call last)",
      "Cell \u001b[1;32mIn[32], line 1\u001b[0m\n\u001b[1;32m----> 1\u001b[0m enc_df\u001b[39m.\u001b[39mcolumns \u001b[39m=\u001b[39m enc\u001b[39m.\u001b[39;49mget_feature_names([\u001b[39m'\u001b[39m\u001b[39mCategory\u001b[39m\u001b[39m'\u001b[39m])\n\u001b[0;32m      2\u001b[0m df3 \u001b[39m=\u001b[39m df\u001b[39m.\u001b[39mjoin(enc_df)\n\u001b[0;32m      3\u001b[0m df3\u001b[39m.\u001b[39mdrop([\u001b[39m'\u001b[39m\u001b[39mCategory\u001b[39m\u001b[39m'\u001b[39m], axis\u001b[39m=\u001b[39m\u001b[39m1\u001b[39m, inplace\u001b[39m=\u001b[39m\u001b[39mTrue\u001b[39;00m)\n",
      "\u001b[1;31mAttributeError\u001b[0m: 'OneHotEncoder' object has no attribute 'get_feature_names'"
     ]
    }
   ],
   "source": [
    "enc_df.columns = enc.get_feature_names(['Category'])\n",
    "df3 = df.join(enc_df)\n",
    "df3.drop(['Category'], axis=1, inplace=True)\n",
    "df3.head()\n"
   ]
  },
  {
   "cell_type": "code",
   "execution_count": 28,
   "metadata": {},
   "outputs": [
    {
     "data": {
      "text/plain": [
       "'hr director summari year experi recruit , plus year human resourc execut manag , year hris develop mainten year work healthcar enviro skill recruit fmlaeeoflsa hris develop benefit administr polici develop web page develop accomplish kansa health institut health outcom state kansa membership accolad : project manag institut member , shrm , chamber commerc , friend univers presid honor roll , friend univers dean honor roll , student liaison friend univers topeka member mothertomoth , member topeka advertis feder , sever product piec creat nomin addi award , receiv recognit outstand custom servic assist state kansa travel tourism depart . , ashhra , kahhr , acm . addit inform : lead chang instrument develop implement adjut general retent research project , involv survey develop analyz result survey present adjut general help retain qualifi talent depart . task work feder secur manag joint forc headquart develop polici , procedur process ensur current new state employe appropri secur clearanc posit held per feder govern requir . lmis , lead job vacanc project abl produc result less time man hour year staff inexperienc jvc process procedur . respons develop , plan implement databas program , last three posit held . design cultiv , involv , renew contact , promot activ potenti employe . databas use report fte usag , budget manag turnov report . work healthcar field , took initi creat local websit use receiv respond request inform assist market promot healthcar facil along recruit potenti employe . human resourc coordin healthcar field , manag front offic personnel , reduc contract labor cost nurs staff implement uniqu pay structur increas prn staff util . continu think `` outsidethebox `` creat develop strategi resolv issu face work environ . current posit , met exceed hire goal firm . result client increas busi transfer locat . experi hr director current compani name citi , state develop new websit agenc , payrol process chang , implement new hris system . oversaw employ process take lead role clinician , physician manag team recruit initi . develop , maintain interpret hr polici . author employe handbook . provid coach support manag supervisor perform manag relat issu . maintain indepth knowledg legal requir relat daytoday manag employe , reduc legal risk ensur regulatori complianc . evalu recommend chang employe benefit plan . oversaw day day administr benefit . hr director compani name citi , state develp supervisori educ , shro websit , shro hris system autom payrol process . establish direct comprehens statewid human resourc program classifi unclassifi state employeesposit adjut general depart . resolv nonroutin hr relat issu associ aros ; review document approv hire promot ; review approv , modifi andor disapprov wagesalari request hire individu preestablish minimum classifi unclassifi pay rate , review signific chang posit descript determin reclassif pursu ; review posit descript new posit determin appropri wage rang base compar classifi posit exist , consult tag militari state manag supervisor order provid technic common sens guidanc proper address sensit complex employe organiz issu ; aid achiev ever chang program goal provid innov idea staf ; serv administr manag repres labor negoti local kape unit th fire depart . hr managersr . recruit compani name citi , state creat hris track system use recruit . respons ramp hire custom servic agent , posit need . placement develop advertis met exceed hire goal . respons hire senior manag cover duti : team manag , payrol , qualiti control . respons recruit new employe , meet exceed goal set . coordin facilit manpow plan , recruit retent , career develop train , staff relat , compens benefit , complianc local , state feder statutori regul , public program , regulatori audit procedur . serv resourc person administr , midlevel manag staff regard hr relat . human resourc coordin compani name citi , state develop hris databas ground employe record monitor . instrument reduc use agenc staf need hospit . coordin facilit manpow plan , recruit retent , career develop train , staff relat , compens benefit , complianc local , state feder statutori regul , public program , regulatori audit procedur . serv hr resourc sourc administr , midlevel manag staff . coordin hire procedur , apprais , pay increas , promot , transfer , termin , job post , correct action ; one person offic , respons osha , work comp , benefit , payrol , etc . educ train master degre : inform manag system friend univers citi , state , unit state . credit earn : semest hour inform manag system bachelor scienc : organiz manag friend univers citi , state , unit state . credit earn : semest hour activ honor topeka chamber commerc ambassador kansa hospit associ health care human resourc member shrm legisl liaison skill desktop publish , newslett product , databas manag , leadership train , osha , fmla , worker compens . pagemak , agenc autom , backup , benefit , budget manag , corel suit , harvard graphic , access , excel , microsoft publish , ms word , quark express , quattro pro , strateg plan , web page develop , wordperfect'"
      ]
     },
     "execution_count": 28,
     "metadata": {},
     "output_type": "execute_result"
    }
   ],
   "source": [
    "x[2]"
   ]
  }
 ],
 "metadata": {
  "kernelspec": {
   "display_name": "Python 3",
   "language": "python",
   "name": "python3"
  },
  "language_info": {
   "codemirror_mode": {
    "name": "ipython",
    "version": 3
   },
   "file_extension": ".py",
   "mimetype": "text/x-python",
   "name": "python",
   "nbconvert_exporter": "python",
   "pygments_lexer": "ipython3",
   "version": "3.8.0"
  },
  "orig_nbformat": 4
 },
 "nbformat": 4,
 "nbformat_minor": 2
}
