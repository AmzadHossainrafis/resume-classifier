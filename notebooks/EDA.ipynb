{
 "cells": [
  {
   "cell_type": "markdown",
   "metadata": {},
   "source": [
    "### Project: resume-classification \n",
    "    * Created by: Amzad hossain \n",
    "    * Created on: 2023-08-10 "
   ]
  },
  {
   "cell_type": "markdown",
   "metadata": {},
   "source": [
    "## Problem statement \n",
    "\n",
    "the goal of this project is to categoirze resumes according to the job description. The dataset is taken from kaggle. The dataset contains 1250 resumes and 25 job descriptions. The dataset is in the form of csv files.\n",
    "\n",
    "\n",
    "\n"
   ]
  },
  {
   "cell_type": "markdown",
   "metadata": {},
   "source": []
  },
  {
   "cell_type": "code",
   "execution_count": 2,
   "metadata": {},
   "outputs": [],
   "source": [
    "# imports \n",
    "import pandas as pd \n",
    "import numpy as np\n",
    "import matplotlib.pyplot as plt\n",
    "import os \n",
    "\n"
   ]
  },
  {
   "cell_type": "code",
   "execution_count": 3,
   "metadata": {},
   "outputs": [
    {
     "name": "stdout",
     "output_type": "stream",
     "text": [
      "c:\\Users\\Amzad\\Desktop\\resume_classification\\notebooks\\data/Resume.csv\n"
     ]
    }
   ],
   "source": [
    "# EDA configuration file\n",
    "\n",
    "data_dir = os.path.join(os.getcwd(), 'data/Resume.csv')\n",
    "print(data_dir)"
   ]
  },
  {
   "cell_type": "code",
   "execution_count": 4,
   "metadata": {},
   "outputs": [],
   "source": [
    "data= pd.read_csv(data_dir)"
   ]
  },
  {
   "cell_type": "code",
   "execution_count": 5,
   "metadata": {},
   "outputs": [
    {
     "data": {
      "text/plain": [
       "Index(['ID', 'Resume_str', 'Resume_html', 'Category'], dtype='object')"
      ]
     },
     "execution_count": 5,
     "metadata": {},
     "output_type": "execute_result"
    }
   ],
   "source": [
    "#all the cols \n",
    "data.columns "
   ]
  },
  {
   "cell_type": "markdown",
   "metadata": {},
   "source": [
    "### Dataset information \n",
    "   dataset contain following columns \n",
    "\n",
    "    1. ID {dtype: int} : resume identification number \n",
    "    2. Resume_str {dtype: str} : resume contain in string format \n",
    "    3. Category {dtype: str} : resume category\n"
   ]
  },
  {
   "cell_type": "markdown",
   "metadata": {},
   "source": [
    "### number of categories "
   ]
  },
  {
   "cell_type": "code",
   "execution_count": 7,
   "metadata": {},
   "outputs": [
    {
     "data": {
      "text/plain": [
       "24"
      ]
     },
     "execution_count": 7,
     "metadata": {},
     "output_type": "execute_result"
    }
   ],
   "source": [
    "len(data['Category'].unique())"
   ]
  },
  {
   "cell_type": "code",
   "execution_count": 40,
   "metadata": {},
   "outputs": [
    {
     "data": {
      "text/html": [
       "<div>\n",
       "<style scoped>\n",
       "    .dataframe tbody tr th:only-of-type {\n",
       "        vertical-align: middle;\n",
       "    }\n",
       "\n",
       "    .dataframe tbody tr th {\n",
       "        vertical-align: top;\n",
       "    }\n",
       "\n",
       "    .dataframe thead th {\n",
       "        text-align: right;\n",
       "    }\n",
       "</style>\n",
       "<table border=\"1\" class=\"dataframe\">\n",
       "  <thead>\n",
       "    <tr style=\"text-align: right;\">\n",
       "      <th></th>\n",
       "      <th>ID</th>\n",
       "      <th>Resume_str</th>\n",
       "      <th>Category</th>\n",
       "    </tr>\n",
       "  </thead>\n",
       "  <tbody>\n",
       "    <tr>\n",
       "      <th>0</th>\n",
       "      <td>16852973</td>\n",
       "      <td>HR ADMINISTRATOR/MARKETING ASSOCIATE\\...</td>\n",
       "      <td>HR</td>\n",
       "    </tr>\n",
       "    <tr>\n",
       "      <th>1</th>\n",
       "      <td>22323967</td>\n",
       "      <td>HR SPECIALIST, US HR OPERATIONS      ...</td>\n",
       "      <td>HR</td>\n",
       "    </tr>\n",
       "    <tr>\n",
       "      <th>2</th>\n",
       "      <td>33176873</td>\n",
       "      <td>HR DIRECTOR       Summary      Over 2...</td>\n",
       "      <td>HR</td>\n",
       "    </tr>\n",
       "    <tr>\n",
       "      <th>3</th>\n",
       "      <td>27018550</td>\n",
       "      <td>HR SPECIALIST       Summary    Dedica...</td>\n",
       "      <td>HR</td>\n",
       "    </tr>\n",
       "    <tr>\n",
       "      <th>4</th>\n",
       "      <td>17812897</td>\n",
       "      <td>HR MANAGER         Skill Highlights  ...</td>\n",
       "      <td>HR</td>\n",
       "    </tr>\n",
       "  </tbody>\n",
       "</table>\n",
       "</div>"
      ],
      "text/plain": [
       "         ID                                         Resume_str Category\n",
       "0  16852973           HR ADMINISTRATOR/MARKETING ASSOCIATE\\...       HR\n",
       "1  22323967           HR SPECIALIST, US HR OPERATIONS      ...       HR\n",
       "2  33176873           HR DIRECTOR       Summary      Over 2...       HR\n",
       "3  27018550           HR SPECIALIST       Summary    Dedica...       HR\n",
       "4  17812897           HR MANAGER         Skill Highlights  ...       HR"
      ]
     },
     "execution_count": 40,
     "metadata": {},
     "output_type": "execute_result"
    }
   ],
   "source": [
    "data= data[[\"ID\",\"Resume_str\",\"Category\"]]\n",
    "data.head()"
   ]
  },
  {
   "cell_type": "code",
   "execution_count": 9,
   "metadata": {},
   "outputs": [
    {
     "name": "stdout",
     "output_type": "stream",
     "text": [
      "Category\n",
      "INFORMATION-TECHNOLOGY    120\n",
      "BUSINESS-DEVELOPMENT      120\n",
      "FINANCE                   118\n",
      "ADVOCATE                  118\n",
      "ACCOUNTANT                118\n",
      "ENGINEERING               118\n",
      "CHEF                      118\n",
      "AVIATION                  117\n",
      "FITNESS                   117\n",
      "SALES                     116\n",
      "BANKING                   115\n",
      "HEALTHCARE                115\n",
      "CONSULTANT                115\n",
      "CONSTRUCTION              112\n",
      "PUBLIC-RELATIONS          111\n",
      "HR                        110\n",
      "DESIGNER                  107\n",
      "ARTS                      103\n",
      "TEACHER                   102\n",
      "APPAREL                    97\n",
      "DIGITAL-MEDIA              96\n",
      "AGRICULTURE                63\n",
      "AUTOMOBILE                 36\n",
      "BPO                        22\n",
      "Name: count, dtype: int64\n"
     ]
    },
    {
     "data": {
      "text/plain": [
       "<Axes: title={'center': 'Category'}, xlabel='Category'>"
      ]
     },
     "execution_count": 9,
     "metadata": {},
     "output_type": "execute_result"
    },
    {
     "data": {
      "image/png": "[encoded data removed]",
      "text/plain": [
       "<Figure size 1000x500 with 1 Axes>"
      ]
     },
     "metadata": {},
     "output_type": "display_data"
    }
   ],
   "source": [
    "category =data['Category'].value_counts()\n",
    "print(category)\n",
    "category.plot(kind='bar',figsize=(10,5),title='Category',color='green',alpha=0.5, legend=True)\n"
   ]
  },
  {
   "cell_type": "markdown",
   "metadata": {},
   "source": [
    "### finding \n",
    "    imbalace data : on class \n",
    "    AGRICULTURE                63\n",
    "    AUTOMOBILE                 36\n",
    "    BPO                        22\n",
    "\n"
   ]
  },
  {
   "cell_type": "code",
   "execution_count": 18,
   "metadata": {},
   "outputs": [
    {
     "data": {
      "text/plain": [
       "'HR GENERALIST       Summary     Dedicated and focused Administrative Assistant who excels at prioritizing, completing multiple tasks simultaneously and following through to achieve project goals. Seeking a role of increased responsibility and authority.       Highlights         Microsoft Office proficiency  Excel spreadsheets  Meticulous attention to detail  Results-oriented  Self-directed      Time management  Professional and mature  Self-starter  Legal administrative support            Experience     11/2008   to   08/2014     HR Generalist    Company Name   －   City  ,   State      Managed visa related employment processes for all non-immigrant faculty and staff.  Improved productivity and enhanced visa related services.  Improved operational structure by developing guidelines and tools for internal and external administration of non-immigrant employment procedures  Reduced internal employment authorization processing times by approximately 30 percent.  Prepared, reviewed and submitted petitions for USCIS adjudication  Maintained electronic database of petitions filed  Served as a university point of contact for USCIS.  Developed and presented university with guidelines to adhere to mandates presented by USCIS, USDHS and USDOS   Presented monthly orientation  Created, edited and internally distributed bi-annual newsletter  Maintained HR Website         05/2000   to   11/2008     Coordinator    Company Name   －   City  ,   State      Provided advice to faculty, staff, scholars and students by interpreting complex regulatory guidelines.  Thoroughly prepared and filed non-immigrant petitions to USCIS for non-immigrant students and employees.  Maintained highly confidential and sensitive data  Identified as Designated School Official for non-immigrant student programs and Alternate Responsible Officer  overseeing the J-1 Exchange Visitor Program for J-1 employees   Assisted foreign nationals in obtaining the H-1B visa status for employment in the U.S.  Coordinated bi-annual student orientation   Created training programs; supervised and trained volunteers  Supervised Administrative Assistant and student employees   Managed and coordinated student activities.         05/2000   to   11/2008     Coordinator/International Student Advisor/Secretary    Company Name   －   City  ,   State      Drafted meeting agendas, supplied advance materials and executed follow-up for meetings and team conferences.  Managed the receptionist area, including greeting visitors and responding to telephone and in-person requests for information.  Designed electronic file systems and maintained electronic and paper files.  Handled all media and public relations inquiries.  Planned meetings and prepared conference rooms.  Wrote reports and correspondence from dictation and handwritten notes.  Dispersed incoming mail to correct recipients throughout the office.  Made copies, sent faxes and handled all incoming and outgoing correspondence.  Created PowerPoint presentations used for business development.  Organized files, developed spreadsheets, faxed reports and scanned documents.  Managed daily office operations and maintenance of equipment.          Education     8/2013     ABA Approved Paralegal Program Certification             8/2013     BA  :   Justice Studies    Montclair State University   －   City  ,   State      Justice Studies       06/2002     AS  :   Psychology    Essex County College   －   City  ,   State      Psychology            Certificate in SHRM Essentials of Human Resource Management, 6/2013 Program Highlights\\n*Performance Management\\t\\t\\t-    Critical Analysis\\n*Recruitment and Selection\\t\\t\\t-    Strategic Planning\\n*Effective Human Resources Management\\t-    Establishing Competencies      New York Institute of Technology   －   City                Publications    Identified by the Department of State as an Alternate Responsible Officer for Exchange Visitor Programs and recognized by United States Citizenship and Immigration Services as Designated School Official. Conference Presenter, National Association of Foreign Student Advisors (NAFSA) 2012 Appointed Acting Assistant Director (Coordinator) of International Students, 2000 She brings calm attention to detail and an approach that places the customer as the number one focus in any activity or service.  This style works.  It benefits all of us.\"  2008 Annual Performance Evaluation, NJIT - Overall Performance Level -Outstanding. Lisa is a quality employee.  She often works beyond contractual hours to complete a task.  This office could not operate in its current modus operandi without her efforts.\"  2008 Annual Performance Evaluation, Merit Proposal, NJIT Thank you for your steadfast style and contributions you make to this office.  You are truly valued.\"  2006 Annual Performance Evaluation Notification, NJIT - Overall Performance Level - Commendable/Outstanding. She is calm, humorous, personable and a model of patience.\"  2004 Annual Performance Evaluation, NJIT - Overall Performance Level - Outstanding.       Skills    administrative, Administrative Assistant, bi, conferences, database, special events, filing, Human Resource Management, HR, Human Resources Management, Excel, Exchange, Microsoft Office, Office, Outlook, PowerPoint, Word, newsletter, Paralegal, Performance Management, processes, Publications, Recruitment, Strategic Planning, Supervisor, training programs, travel arrangements, Visio, Website, workshops, annual reports'"
      ]
     },
     "execution_count": 18,
     "metadata": {},
     "output_type": "execute_result"
    }
   ],
   "source": [
    "resume=data['Resume_str']\n",
    "resume[5].strip()"
   ]
  },
  {
   "cell_type": "code",
   "execution_count": 25,
   "metadata": {},
   "outputs": [
    {
     "data": {
      "text/plain": [
       "\"         HR MANAGER       Summary    HUMAN RESOURCES MANAGER Extensive background in administrative duties, including experience in implementing staff development and training, mediation, conflict resolution, benefits and compensation training, HR records management, HR policies development and legal compliance.\\n*Demonstrated success in, developing teambuilding programs, and writing personnel manuals, coordinating special programs, job descriptions and online State Mandated Training.      Highlights          University Events/Special Programs  Prepare Agendas  FMLA/ADA/EEO/WC  Mediation & Advocacy  HRIS Technologies\\tTESOL Teacher for University staff  Employee Relations  Web Design using RedDot and Sharepoint  HR Program/Project Management  Microsoft Office Suites\\tOrientation & On-Boarding  Training & Development  Performance Management  Organizational Development  HR Policies & Procedures  Publisher/InDesign/Quark              Accomplishments      Enjoy 5k Runs/Walks OF NOTE Professional Development: Complete ongoing training in the areas of compensation and benefits, employee and labor relations, leaves of absence, customer service, supervisory training, and workplace safety/security.  Created publications and advertisements for TWU and THEHRA conferences.  Invited as guest speaker for Staff Development Days on the TWU Houston campus and several affiliated conferences.  Developed online State Mandated Training for TWU employees.        Experience      HR Manager     01/2007   to   Current      Company Name   City  ,   State      Perform professional administrative work involving the development, administration, and coordination of a comprehensive series of training and development opportunities for University staff and faculty.  Work is performed with considerable independent judgment and wide latitude under the limited supervision of the Director of Human Resources Professional Services.  Key Results: Perform professional administrative work involving the development, administration, and coordination of a comprehensive series of training and development opportunities for University staff and faculty.  Implementation of TESOL program (Teaching English to Speakers of Other Languages).  Conduct exit interviews with staff employees and develops procedures for resolving problems discovered through exit interviews.  Responsible for implementation, maintenance and training for the Staff Performance Evaluation System.  Coordinate Service Awards, Staff Awards and Retirement Recognition programs.  Responsible for the coordination of New Employee Orientation.  Maintain the calendar plan for scheduling special events, training schedules and New Employee Orientation schedules.  Web spinner for Human Resources & Newsletters using RedDot and Sharepoint.  Responsible for establishing job standards for subordinate staff and effectively evaluation staff under charge.  Manage and prioritize additional tasks that have been assigned by Associate Vice President.         HR Representative III     01/2001   to   01/2007      Company Name   City  ,   State      Promoted to fulfill a broad range of HR functions, including training employees on newly implemented PeopleSoft Time and Labor module, administering their FMLA program, and managing HR records.  Key Results: Trained over 250 time keepers on time keeping techniques and best practices, conducting workshops and one-on-one coaching sessions that contributed to a successful implementation of PeopleSoft.  Leadership Development Training for faculty and staff.  Translated and facilitated training in Spanish.  Designed and refined course material to the needs of specific departments Assisted in coordination of special programs/events.         Restaurant Manager & Trainer     01/1993   to   01/2001      Company Name   City  ,   State      Responsible for the overall business performance of managing the restaurant and training all new employees.  Key Results: Encouraged guest's satisfaction.  Special Events Responsible for hiring and training wait staff, bar staff and kitchen staff.  Translated and facilitated training in Spanish.  Designed and refined training material to the needs of specific areas.  Assisted in maintaining the quality and standard of food, health, service and safety.         Education      Bachelor of Science (BS)  :   Sociology   1999     TEXAS WOMAN'S UNIVERSITY   City  ,   State      Sociology       Affiliations    Society for Human Resource Management (SHRM) North Texas Society for Human Resource Management (NTSHRM) Texas Higher Education in Human Resources Association (THEHRA) International TEFL and TESOL Training membership (ittt) Denton High School Girls Softball Association       Skills    ADA, ADMINISTRATIVE SKILLS, administrative, coaching, Employee Relations, training employees, English, Special Events, hiring, HRIS, Human Resources, HR, InDesign, Leadership Development, Director, managing, Mediation, Microsoft Office Suites, Publisher, Sharepoint, Newsletters, Organizational Development, PeopleSoft, Performance Management, Policies, Project Management, quality, Quark, managing the restaurant, safety, scheduling, Spanish, supervision, Teacher, Teaching, training material, Web Design, workshops   \""
      ]
     },
     "execution_count": 25,
     "metadata": {},
     "output_type": "execute_result"
    }
   ],
   "source": [
    "resume[6]"
   ]
  },
  {
   "cell_type": "code",
   "execution_count": 34,
   "metadata": {},
   "outputs": [
    {
     "data": {
      "text/plain": [
       "'         HR ASSISTANT       Summary    Highly motivated, and a dynamic Human Resources professional with diverse credentials seeking a position with a growing organization to make a positive impact on company policies, and experience career growth. Accomplished human resources and administrative professional with over 3 years\\' experience. Attentive to detail, able to take initiative, prioritize multiple tasks and manage workload. Resourceful team player with a can-do attitude. Results-driven with strong communication, analytical, and interpersonal skills while maintain the utmost confidentiality.      Highlights          Compensation knowledge  MS Office Suite  AR/AP proficiency  Oracle knowledge  Great communication skills  Great analytical skills\\t*New Hire Training  Filing & Records   Management  Spreadsheets/Reports  Office Management  Customer Service  QuickBooks, Peachtree  New Hire paperwork                Experience     03/2016   to   Current     Company Name   －   City  ,   State      Sourced, recruited for call center to all departments throughout the company.  Responsible for finding the right candidates and matching them to temporary  or permanent job placement for the company.  Maintaining computer system by updating and entering data in BrassRing an responsible for complete on boarding and exit interview paperwork.  Compiling reports and spreadsheets in order to keep track of drug test and background checks that are completed for on-boarding process.  Complete initial phone interviews to evaluate applicants\\' qualifications.  Scheduling job     interviews for field managers after seeing that applicant meet the job requirements.  Administer and manage scores tests given to applicants before making the job offer.  Help organize job fair and manage files for applicants that are not qualified.  Circle K -Naples, FL Provides convenient services to the community.         02/2011   to   10/2014     HR Assistant      Maintained employee compensation, benefits, PTO, timecards and promotion opportunities.  Explained and held trainings for new and existing employees on benefit programs and company rules and regulations.  Managed Background Checks from ordering paperwork to documenting  results in the system.  Requested and completed spreadsheet for drug tests results.  Managed internal Human Resources records for two stores and oversaw all investigations   and disciplinary actions.  Completed exit interview paperwork.  Managed and processed time card for payroll processing by manager in a timely manner.  Processed new hire paperwork, completed on-boarding process and managed their records.  Involved in hiring process by coordinating job posting on the website, reviewing resumes, and performing telephone interviews and reference checks.  Further developed strong communication and customer service skills as result of working with clients.         01/2007   to   01/2010     AR/AP Representative    Company Name   －   City  ,   State      Leading orthopedic medical device company Processed invoices and credit memos in accurate in timely manner.  Review documents for product returns and loaner fees.  Solveed incorrect billing, back up cash applications.  Made collection calls to clients periodically Lien, Waiver and NTO.  Processed invoice through payment cycle.  Insured that all venders are paid in a timely manner.  Reconciliation of vendors.  Managed vendor/supplier relations; and oversaw the timely, accurate processing of invoices, purchase orders, expense reports, credit memos and payment transactions.         01/2004   to   01/2007     Office Assistant    Company Name   －   City  ,   State      Electrical company Updated the database with customer calls.  Worked with NTO vender helped with reconciliation and ledger Balanced and transmitted daily revenue.  AR/AP Filling lien, waiver and managed collection.  Coordinated complex travel schedules, accommodations and trip logistics for candidates.  Entered personnel and subcontractor data into a central database.  Evaluated timecards for accuracy on the regular and overtime hours.          Education          Associates of Science  :   Human resources and Organizational Leadership    RASMUSSEN COLLEGE   －   City  ,   State      Human resources and Organizational Leadership       06/2016     Administration leadership, Communications in your profession, Accounting, Employment Laws, Human resources 1 and Organizational Development. Member of Society for Human Resource Management (SHRM) PHR certificate after graduation Volunteer Work to mentor kids and young adults to succeed in their school or career path Score seminar on Human Resources -\"How to Hire Smart\"       Rasmussen College                  Skills    Accounting, ADP, analytical skills, AP, AR, Benefits, billing, Call center, Great communication skills, Interpersonal skills, credit, clients, Customer Service, customer service skills, database, Detail-oriented, Employee Relations, expense reports, Filling, Filing, hiring, Human Resource Management, Human Resources, Human resources 1, processing of invoices, leadership, ledger, logistics, mentor, MS Office Suite, Office Management, Oracle, Organizational Development, payroll processing, Peachtree, personnel, promotion, QuickBooks, Recruitment, Scheduling, Spreadsheets, spreadsheet, telephone, phone, website   '"
      ]
     },
     "execution_count": 34,
     "metadata": {},
     "output_type": "execute_result"
    }
   ],
   "source": [
    "resume[10]"
   ]
  },
  {
   "cell_type": "code",
   "execution_count": 15,
   "metadata": {},
   "outputs": [],
   "source": [
    "def remove_perenthesis(text):\n",
    "    text = re.sub(r'\\([^)]*\\)', '', text)\n",
    "    return text\n",
    "\n",
    "x=x.apply(remove_perenthesis)"
   ]
  },
  {
   "cell_type": "markdown",
   "metadata": {},
   "source": [
    "1. dataset contain too much space bwteen words .\n",
    "2. dataset contain unwanted perenthesis  .\n",
    "3. dataset contain unwanted symbols .\n",
    "\n"
   ]
  },
  {
   "cell_type": "code",
   "execution_count": 38,
   "metadata": {},
   "outputs": [],
   "source": [
    "# loc category = hr \n",
    "\n",
    "Hr =data.loc[data['Category'] == 'hr']\n"
   ]
  },
  {
   "cell_type": "markdown",
   "metadata": {},
   "source": [
    "### Missing  value "
   ]
  },
  {
   "cell_type": "code",
   "execution_count": 43,
   "metadata": {},
   "outputs": [
    {
     "data": {
      "text/plain": [
       "ID            0\n",
       "Resume_str    0\n",
       "Category      0\n",
       "dtype: int64"
      ]
     },
     "execution_count": 43,
     "metadata": {},
     "output_type": "execute_result"
    }
   ],
   "source": [
    "data.isnull().sum() "
   ]
  },
  {
   "cell_type": "markdown",
   "metadata": {},
   "source": [
    "### duplicate rows\n"
   ]
  },
  {
   "cell_type": "code",
   "execution_count": 45,
   "metadata": {},
   "outputs": [
    {
     "data": {
      "text/plain": [
       "0"
      ]
     },
     "execution_count": 45,
     "metadata": {},
     "output_type": "execute_result"
    }
   ],
   "source": [
    "data.duplicated().sum()"
   ]
  },
  {
   "cell_type": "code",
   "execution_count": 46,
   "metadata": {},
   "outputs": [
    {
     "name": "stdout",
     "output_type": "stream",
     "text": [
      "<class 'pandas.core.frame.DataFrame'>\n",
      "RangeIndex: 2484 entries, 0 to 2483\n",
      "Data columns (total 3 columns):\n",
      " #   Column      Non-Null Count  Dtype \n",
      "---  ------      --------------  ----- \n",
      " 0   ID          2484 non-null   int64 \n",
      " 1   Resume_str  2484 non-null   object\n",
      " 2   Category    2484 non-null   object\n",
      "dtypes: int64(1), object(2)\n",
      "memory usage: 58.3+ KB\n"
     ]
    }
   ],
   "source": [
    "data.info()"
   ]
  }
 ],
 "metadata": {
  "kernelspec": {
   "display_name": "Python 3",
   "language": "python",
   "name": "python3"
  },
  "language_info": {
   "codemirror_mode": {
    "name": "ipython",
    "version": 3
   },
   "file_extension": ".py",
   "mimetype": "text/x-python",
   "name": "python",
   "nbconvert_exporter": "python",
   "pygments_lexer": "ipython3",
   "version": "3.8.0"
  },
  "orig_nbformat": 4
 },
 "nbformat": 4,
 "nbformat_minor": 2
}
